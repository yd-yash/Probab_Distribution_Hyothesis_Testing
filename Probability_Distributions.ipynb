{
 "cells": [
  {
   "cell_type": "markdown",
   "id": "e99ecfa3-7e8e-48bd-9b92-2530c7550cd2",
   "metadata": {},
   "source": [
    "# Probability Distributions: Binomial and Gaussian Distributions\n",
    "\n"
   ]
  },
  {
   "cell_type": "markdown",
   "id": "429bcd05-889c-4d06-ae0a-68021d35b025",
   "metadata": {},
   "source": [
    "## Binomial Distribution\n",
    "\n",
    "The binomial distribution is a discrete probability distribution that describes the number of successes in a fixed number of independent Bernoulli trials. It is defined by two parameters: $n$, the number of trials, and $p$, the probability of success in each trial.\n",
    "\n",
    "The probability mass function (PMF) of the binomial distribution is given by:\n",
    "\n",
    "$$P(X=k) = {n \\choose k} p^k (1-p)^{n-k}$$ \n",
    "$$P(X=k) = (p+q)^n; (q = 1-p)$$\n",
    "\n",
    "where ${n \\choose k}$ is the binomial coefficient, which gives the number of ways to choose $k$ successes from $n$ trials.\n"
   ]
  },
  {
   "cell_type": "code",
   "execution_count": 14,
   "id": "3532bcc7-8fe5-44b4-8e94-d8ddd8f8f61d",
   "metadata": {},
   "outputs": [
    {
     "data": {
      "image/png": "[encoded data removed]",
      "text/plain": [
       "<Figure size 432x288 with 1 Axes>"
      ]
     },
     "metadata": {
      "needs_background": "light"
     },
     "output_type": "display_data"
    }
   ],
   "source": [
    "import numpy as np\n",
    "import matplotlib.pyplot as plt\n",
    "from scipy.stats import binom\n",
    "\n",
    "n=10\n",
    "p=0.2\n",
    "k = np.arange(0, n+1)\n",
    "\n",
    "#Binomial\n",
    "pmf_values = binom.pmf(k, n, p)\n",
    "\n",
    "#Plotting\n",
    "plt.bar(k, pmf_values)\n",
    "plt.title('Binomial Distribution (n=5, p = 0.5)')\n",
    "plt.xlabel('Number of Success (k)')\n",
    "plt.ylabel('Probability')\n",
    "plt.xticks(k)\n",
    "plt.grid(axis='y', alpha=0.75)\n",
    "plt.show()\n"
   ]
  },
  {
   "cell_type": "markdown",
   "id": "d02b239d-5734-4608-98b0-49fdedde04d1",
   "metadata": {},
   "source": [
    "\n",
    "## Gaussian Distribution\n",
    "\n",
    "The Gaussian distribution, also known as the normal distribution, is a continuous probability distribution that describes the distribution of a random variable that tends to cluster around a mean value with a characteristic bell-shaped curve. It is defined by two parameters: $\\mu$, the mean, and $\\sigma$, the standard deviation.\n",
    "\n",
    "The probability density function (PDF) of the Gaussian distribution is given by:\n",
    "\n",
    "$$f(x) = \\frac{1}{\\sigma \\sqrt{2\\pi}} e^{-\\frac{(x-\\mu)^2}{2\\sigma^2}}$$\n",
    "\n"
   ]
  },
  {
   "cell_type": "code",
   "execution_count": 10,
   "id": "3be98e66-354a-423a-bd51-fa7185fb5033",
   "metadata": {},
   "outputs": [
    {
     "data": {
      "image/png": "[encoded data removed]",
      "text/plain": [
       "<Figure size 432x288 with 1 Axes>"
      ]
     },
     "metadata": {
      "needs_background": "light"
     },
     "output_type": "display_data"
    }
   ],
   "source": [
    "mu, sigma = 60, 10 # mean and standard deviation\n",
    "s = np.random.normal(mu, sigma, 1000)\n",
    "\n",
    "import matplotlib.pyplot as plt\n",
    "count, bins, ignored = plt.hist(s, 30, density=True)\n",
    "plt.plot(bins, 1/(sigma * np.sqrt(2 * np.pi)) *\n",
    "               np.exp( - (bins - mu)**2 / (2 * sigma**2) ),\n",
    "         linewidth=2, color='r')\n",
    "plt.show()"
   ]
  },
  {
   "cell_type": "code",
   "execution_count": null,
   "id": "667c7050-0bf6-4274-b590-6b4ff7e60f6c",
   "metadata": {},
   "outputs": [],
   "source": [
    "import numpy as np\n",
    "from scipy.stats import stats\n",
    "import matplotlib.pyplot as plt\n",
    "\n",
    "# Parameters\n",
    "mu = 50\n",
    "sigma = 10\n",
    "x = 60\n",
    "\n",
    "# Plotting\n",
    "x_values = np.linspace(mu - 4*sigma, mu + 4*sigma, 1000)\n",
    "y_values = stats.norm.pdf(x_values, mu, sigma)\n",
    "plt.plot(x_values, y_values, label='Normal Distribution')\n",
    "plt.title('Normal Distribution ($\\mu=50$, $\\sigma=10$)')\n",
    "plt.xlabel('X')\n",
    "plt.ylabel('Probability density')\n",
    "plt.show()\n",
    "\n",
    "probability = stats.norm.cdf(x, mu, sigma)\n",
    "print(f'Probability ( X < {x}): {probability}')"
   ]
  },
  {
   "cell_type": "markdown",
   "id": "da202b62-97c4-4d6c-8581-73e705193738",
   "metadata": {},
   "source": [
    "# Hypothesis Testing"
   ]
  },
  {
   "cell_type": "markdown",
   "id": "a0a5fc7a-a112-4e32-aad3-412530e015cf",
   "metadata": {},
   "source": [
    "# What is a Hypothesis?\n",
    "\n",
    "A hypothesis is a statement or assumption about a population parameter or the relationship between variables in a research study. A basis for testing theories.\n",
    "\n",
    "# What is Hypothesis Testing?\n",
    "The main purpose of hypothesis testing is to evaluate the validity of a hypothesis by assessing the evidence provided by the data.\n",
    "Hypothesis testing is a statistical method used to make inferences about population parameters based on sample data. It involves evaluating the validity of a hypothesis by assessing the evidence provided by the data. The process generally consists of the following steps:\n",
    "\n",
    "1. **Formulate Hypotheses:**\n",
    "   - **Null Hypothesis ($H_0$):** This is the default assumption or a statement of no effect. It represents the status quo or the absence of a relationship between variables.\n",
    "   - **Alternative Hypothesis ($H_1$ or $H_a$):** This is the hypothesis that we want to test. It represents the claim or the statement that contradicts the null hypothesis.\n",
    "\n",
    "2. **Select a Significance Level (α):**\n",
    "   - The significance level, denoted by α, is the probability of rejecting the null hypothesis when it is actually true. It is typically set before conducting the test, commonly at 0.05 or 0.01.\n",
    "\n",
    "3. **Choose a Statistical Test:**\n",
    "   - The choice of a statistical test depends on the type of data and the research question being investigated (e.g., t-test, chi-square test, ANOVA, etc.).\n",
    "\n",
    "4. **Collect Data and Calculate Test Statistic:**\n",
    "   - Using the collected sample data, compute a test statistic that measures the strength of evidence against the null hypothesis.\n",
    "\n",
    "5. **Determine the Critical Region:**\n",
    "    Based on the chosen significance level and the distribution of the test statistic, determine the critical region—the range of values that, if observed, would lead to rejecting the null hypothesis.\n",
    "\n",
    "6. **Make a Decision:**\n",
    "   - Compare the test statistic to the critical value(s) or use p-values to determine whether to reject the null hypothesis.\n",
    "   - If the test statistic falls within the critical region or the p-value is less than α, reject the null hypothesis in favor of the alternative hypothesis.\n",
    "   - If the test statistic does not fall within the critical region or the p-value is greater than or equal to α, fail to reject the null hypothesis.\n",
    "\n",
    "7. **Draw Conclusions:**\n",
    "   - Based on the decision made in step 6, draw conclusions about the population parameter or the relationship between variables.\n",
    "\n",
    "# Formulas Involved:\n",
    "\n",
    "- **Test Statistic Formula:**\n",
    "  - The formula for the test statistic depends on the specific hypothesis test being conducted. Common test statistics include z-score, t-score, F-value, and chi-square statistic.\n",
    "\n",
    "- **Critical Values:**\n",
    "  - Critical values are determined based on the chosen significance level and the distribution of the test statistic. They are obtained from statistical tables or calculated using software.\n",
    "\n",
    "- **P-value:**\n",
    "  - The p-value is the probability of observing a test statistic as extreme as, or more extreme than, the one obtained from the sample data, assuming the null hypothesis is true. It is compared to the significance level to make a decision in hypothesis testing.\n"
   ]
  },
  {
   "cell_type": "markdown",
   "id": "54e8a97f-c719-440b-a957-a151ebf4fe0a",
   "metadata": {},
   "source": [
    "# Hypothesis Testing Example\n",
    "\n",
    "This example illustrates hypothesis testing using a two-tailed test.\n",
    "\n",
    "## Problem Statement:\n",
    "\n",
    "The average score on a test is 80 with a standard deviation of 10. With a new teaching curriculum introduced, it is believed that this score will change. On random testing, the score of 38 students was obtained, and the mean was found to be 88. With a 0.05 significance level, is there any evidence to support this claim?\n",
    "\n",
    "## Solution:\n",
    "\n",
    "- **Null Hypothesis (H₀):** μ = 80\n",
    "- **Alternative Hypothesis (H₁):** μ ≠ 80\n",
    "- Sample Mean (¯¯¯x): 88\n",
    "- Population Mean (μ): 80\n",
    "- Sample Size (n): 36\n",
    "- Population Standard Deviation (σ): 10\n",
    "- Significance Level (α): 0.05 / 2 = 0.025\n",
    "\n",
    "1. **Calculate Critical Value:**\n",
    "   - Using the normal distribution table, the critical value is found to be 1.96.\n",
    "\n",
    "2. **Calculate Test Statistic (z):**\n",
    "   - Formula: z = (¯¯¯x - μ) / (σ / √n)\n",
    "   - Substituting the values:\n",
    "     z = (88 - 80) / (10 / √36)\n",
    "     z = 4.8\n",
    "\n",
    "3. **Compare Test Statistic with Critical Value:**\n",
    "   - As 4.8 > 1.96, the null hypothesis is rejected.\n",
    "\n",
    "## Conclusion:\n",
    "Based on the hypothesis test with a significance level of 0.05, there is evidence to suggest that there is a difference in the scores after the new curriculum was introduced.\n"
   ]
  },
  {
   "cell_type": "code",
   "execution_count": 17,
   "id": "3aea162a-a01d-4e77-bce0-056a168bd804",
   "metadata": {},
   "outputs": [
    {
     "name": "stdout",
     "output_type": "stream",
     "text": [
      "T-statistic: 7.169599853223049\n",
      "P-value: 5.253360962283569e-05\n",
      "Reject the null hypothesis\n"
     ]
    }
   ],
   "source": [
    "from scipy import stats\n",
    "\n",
    "# Sample data\n",
    "sample_data = [85, 90, 88, 82, 95, 91, 89, 92, 87, 86]\n",
    "\n",
    "# Population mean\n",
    "population_mean = 80\n",
    "\n",
    "# Perform one-sample t-test\n",
    "t_statistic, p_value = stats.ttest_1samp(sample_data, population_mean)\n",
    "\n",
    "# Print results\n",
    "print(\"T-statistic:\", t_statistic)\n",
    "print(\"P-value:\", p_value)\n",
    "\n",
    "# Check if null hypothesis should be rejected\n",
    "alpha = 0.05\n",
    "if p_value < alpha:\n",
    "    print(\"Reject the null hypothesis\")\n",
    "else:\n",
    "    print(\"Fail to reject the null hypothesis\")\n"
   ]
  },
  {
   "cell_type": "code",
   "execution_count": 18,
   "id": "5209390d-11cd-41ae-834e-be4ec5649d06",
   "metadata": {},
   "outputs": [
    {
     "name": "stdout",
     "output_type": "stream",
     "text": [
      "Shapiro-Wilk Test Statistic: 0.9989449381828308\n",
      "P-value: 0.9999998807907104\n",
      "Fail to reject the null hypothesis (the data is normally distributed)\n"
     ]
    }
   ],
   "source": [
    "from scipy import stats\n",
    "\n",
    "# Sample data\n",
    "sample_data = [85, 90, 88, 82, 95, 91, 89, 92, 87, 86]\n",
    "\n",
    "# Perform Shapiro-Wilk test\n",
    "statistic, p_value = stats.shapiro(sample_data)\n",
    "\n",
    "# Print results\n",
    "print(\"Shapiro-Wilk Test Statistic:\", statistic)\n",
    "print(\"P-value:\", p_value)\n",
    "\n",
    "# Check if null hypothesis should be rejected\n",
    "alpha = 0.05\n",
    "if p_value < alpha:\n",
    "    print(\"Reject the null hypothesis (the data is not normally distributed)\")\n",
    "else:\n",
    "    print(\"Fail to reject the null hypothesis (the data is normally distributed)\")\n"
   ]
  },
  {
   "cell_type": "code",
   "execution_count": 19,
   "id": "f9507d9d-1aef-453a-b3c8-1a80278f69e8",
   "metadata": {},
   "outputs": [
    {
     "name": "stdout",
     "output_type": "stream",
     "text": [
      "Kolmogorov-Smirnov Test Statistic: 1.0\n",
      "P-value: 0.0\n",
      "Reject the null hypothesis (the data is not normally distributed)\n"
     ]
    }
   ],
   "source": [
    "from scipy import stats\n",
    "\n",
    "# Sample data\n",
    "sample_data = [85, 90, 88, 82, 95, 91, 89, 92, 87, 86]\n",
    "\n",
    "# Perform Kolmogorov-Smirnov test\n",
    "statistic, p_value = stats.kstest(sample_data, 'norm')\n",
    "\n",
    "# Print results\n",
    "print(\"Kolmogorov-Smirnov Test Statistic:\", statistic)\n",
    "print(\"P-value:\", p_value)\n",
    "\n",
    "# Check if null hypothesis should be rejected\n",
    "alpha = 0.05\n",
    "if p_value < alpha:\n",
    "    print(\"Reject the null hypothesis (the data is not normally distributed)\")\n",
    "else:\n",
    "    print(\"Fail to reject the null hypothesis (the data is normally distributed)\")\n"
   ]
  },
  {
   "cell_type": "code",
   "execution_count": null,
   "id": "5e6fb050-f3ac-4820-90a0-1d08666d753c",
   "metadata": {},
   "outputs": [],
   "source": []
  }
 ],
 "metadata": {
  "kernelspec": {
   "display_name": "Python 3 (ipykernel)",
   "language": "python",
   "name": "python3"
  },
  "language_info": {
   "codemirror_mode": {
    "name": "ipython",
    "version": 3
   },
   "file_extension": ".py",
   "mimetype": "text/x-python",
   "name": "python",
   "nbconvert_exporter": "python",
   "pygments_lexer": "ipython3",
   "version": "3.10.12"
  }
 },
 "nbformat": 4,
 "nbformat_minor": 5
}
